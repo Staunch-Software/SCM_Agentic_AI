{
 "cells": [
  {
   "cell_type": "code",
   "execution_count": 2,
   "id": "68ca2434-776a-4ea4-a557-1cca34050744",
   "metadata": {},
   "outputs": [],
   "source": [
    "# Cell 1: Import Libraries\n",
    "import pandas as pd\n",
    "import numpy as np\n",
    "import lightgbm as lgb\n",
    "from sklearn.model_selection import train_test_split\n",
    "from sklearn.metrics import accuracy_score, classification_report, confusion_matrix\n",
    "import matplotlib.pyplot as plt\n",
    "import seaborn as sns\n",
    "import joblib\n",
    "import warnings\n",
    "warnings.filterwarnings('ignore')"
   ]
  },
  {
   "cell_type": "code",
   "execution_count": 3,
   "id": "e099328f-6d61-425e-bbac-d1f8c373385b",
   "metadata": {},
   "outputs": [
    {
     "name": "stdout",
     "output_type": "stream",
     "text": [
      "Dataset loaded: (50000, 10)\n",
      "Relevance distribution:\n",
      "relevance_score\n",
      "1    10000\n",
      "2    10000\n",
      "3    10000\n",
      "4    10000\n",
      "5    10000\n",
      "Name: count, dtype: int64\n"
     ]
    }
   ],
   "source": [
    "# Cell 2: Load Dataset\n",
    "# Load the generated supplier data\n",
    "df = pd.read_csv('data/supplier_ranking_dataset.csv')\n",
    "print(f\"Dataset loaded: {df.shape}\")\n",
    "print(f\"Relevance distribution:\\n{df['relevance_score'].value_counts().sort_index()}\")\n"
   ]
  },
  {
   "cell_type": "code",
   "execution_count": 4,
   "id": "d15bd75f-e77e-42a6-aa7f-186e887016c5",
   "metadata": {},
   "outputs": [],
   "source": [
    "# Cell 3: Feature Engineering Function\n",
    "def prepare_features(df):\n",
    "    \"\"\"Create features for the model\"\"\"\n",
    "    df_features = df.copy()\n",
    "    \n",
    "    # Base engineered features from dataset\n",
    "    feature_cols = [\n",
    "        'lead_time_days', 'on_time_delivery_rate', 'defect_rate', \n",
    "        'past_performance_score', 'efficiency_score', 'quality_ratio', 'delivery_score'\n",
    "    ]\n",
    "    \n",
    "    # Additional features\n",
    "    df_features['performance_efficiency'] = (df_features['past_performance_score'] * \n",
    "                                           df_features['on_time_delivery_rate']) / (df_features['lead_time_days'] / 30)\n",
    "    \n",
    "    df_features['total_quality'] = (1 - df_features['defect_rate']) * df_features['past_performance_score']\n",
    "    df_features['delivery_reliability'] = df_features['on_time_delivery_rate'] * (50 / df_features['lead_time_days'])\n",
    "    \n",
    "    df_features['risk_score'] = (df_features['defect_rate'] * 0.4 + \n",
    "                               (1 - df_features['on_time_delivery_rate']) * 0.3 + \n",
    "                               (df_features['lead_time_days'] / 90) * 0.3)\n",
    "    \n",
    "    df_features['composite_score'] = (\n",
    "        df_features['on_time_delivery_rate'] * 0.25 +\n",
    "        (1 - df_features['defect_rate']) * 0.25 +\n",
    "        (df_features['past_performance_score'] / 5) * 0.25 +\n",
    "        (50 / df_features['lead_time_days']) * 0.25\n",
    "    )\n",
    "    \n",
    "    # Update feature list\n",
    "    feature_cols.extend([\n",
    "        'performance_efficiency', 'total_quality', 'delivery_reliability',\n",
    "        'risk_score', 'composite_score'\n",
    "    ])\n",
    "    \n",
    "    return df_features[feature_cols], feature_cols"
   ]
  },
  {
   "cell_type": "code",
   "execution_count": 5,
   "id": "88b97c02-10a5-4bff-8621-b43dacf0e351",
   "metadata": {},
   "outputs": [
    {
     "name": "stdout",
     "output_type": "stream",
     "text": [
      "Features shape: (50000, 12)\n",
      "Target shape: (50000,)\n",
      "Features: ['lead_time_days', 'on_time_delivery_rate', 'defect_rate', 'past_performance_score', 'efficiency_score', 'quality_ratio', 'delivery_score', 'performance_efficiency', 'total_quality', 'delivery_reliability', 'risk_score', 'composite_score']\n"
     ]
    }
   ],
   "source": [
    "# Cell 4: Prepare Data\n",
    "# Create features\n",
    "X, feature_names = prepare_features(df)\n",
    "y = df['relevance_score'].values\n",
    "\n",
    "print(f\"Features shape: {X.shape}\")\n",
    "print(f\"Target shape: {y.shape}\")\n",
    "print(f\"Features: {feature_names}\")"
   ]
  },
  {
   "cell_type": "code",
   "execution_count": 6,
   "id": "61b6f531-2e1c-4b8f-bb13-57e2abca8f81",
   "metadata": {},
   "outputs": [
    {
     "name": "stdout",
     "output_type": "stream",
     "text": [
      "Training set: (40000, 12)\n",
      "Test set: (10000, 12)\n"
     ]
    }
   ],
   "source": [
    "# Cell 5: Train-Test Split\n",
    "# Split data\n",
    "X_train, X_test, y_train, y_test = train_test_split(\n",
    "    X, y, test_size=0.2, random_state=42, stratify=y\n",
    ")\n",
    "\n",
    "print(f\"Training set: {X_train.shape}\")\n",
    "print(f\"Test set: {X_test.shape}\")"
   ]
  },
  {
   "cell_type": "code",
   "execution_count": 7,
   "id": "d644eca9-366e-4ed1-bce6-539a1ab25431",
   "metadata": {},
   "outputs": [],
   "source": [
    "# Cell 6: LightGBM Model Setup\n",
    "# LightGBM parameters\n",
    "lgb_params = {\n",
    "    'objective': 'multiclass',\n",
    "    'num_class': 5,\n",
    "    'metric': 'multi_logloss',\n",
    "    'boosting_type': 'gbdt',\n",
    "    'num_leaves': 31,\n",
    "    'learning_rate': 0.1,\n",
    "    'feature_fraction': 0.8,\n",
    "    'bagging_fraction': 0.8,\n",
    "    'bagging_freq': 5,\n",
    "    'max_depth': 8,\n",
    "    'min_data_in_leaf': 20,\n",
    "    'lambda_l1': 0.1,\n",
    "    'lambda_l2': 0.1,\n",
    "    'verbose': -1,\n",
    "    'random_state': 42,\n",
    "    'n_jobs': -1\n",
    "}\n",
    "\n",
    "# Create datasets\n",
    "train_data = lgb.Dataset(X_train, label=y_train-1)  # LightGBM expects 0-based labels\n",
    "valid_data = lgb.Dataset(X_test, label=y_test-1, reference=train_data)\n"
   ]
  },
  {
   "cell_type": "code",
   "execution_count": 8,
   "id": "e7210c8b-31b9-4f98-adac-3f3bd72eb43e",
   "metadata": {},
   "outputs": [
    {
     "name": "stdout",
     "output_type": "stream",
     "text": [
      "Training LightGBM model...\n",
      "Training until validation scores don't improve for 50 rounds\n",
      "[100]\ttrain's multi_logloss: 0.00366133\teval's multi_logloss: 0.0200735\n",
      "Early stopping, best iteration is:\n",
      "[58]\ttrain's multi_logloss: 0.00807402\teval's multi_logloss: 0.018242\n",
      "Training completed!\n"
     ]
    }
   ],
   "source": [
    "# Cell 7: Train Model\n",
    "print(\"Training LightGBM model...\")\n",
    "model = lgb.train(\n",
    "    lgb_params,\n",
    "    train_data,\n",
    "    valid_sets=[train_data, valid_data],\n",
    "    valid_names=['train', 'eval'],\n",
    "    num_boost_round=1000,\n",
    "    callbacks=[\n",
    "        lgb.early_stopping(stopping_rounds=50),\n",
    "        lgb.log_evaluation(period=100)\n",
    "    ]\n",
    ")\n",
    "\n",
    "print(\"Training completed!\")"
   ]
  },
  {
   "cell_type": "code",
   "execution_count": 9,
   "id": "f8aa4ea2-6656-4b6b-8a83-bc19e0251f70",
   "metadata": {},
   "outputs": [
    {
     "name": "stdout",
     "output_type": "stream",
     "text": [
      "Training Accuracy: 0.9970\n",
      "Test Accuracy: 0.9933\n",
      "Classification Report:\n",
      "              precision    recall  f1-score   support\n",
      "\n",
      " Relevance_1       1.00      1.00      1.00      2000\n",
      " Relevance_2       1.00      1.00      1.00      2000\n",
      " Relevance_3       1.00      1.00      1.00      2000\n",
      " Relevance_4       0.98      0.98      0.98      2000\n",
      " Relevance_5       0.98      0.99      0.99      2000\n",
      "\n",
      "    accuracy                           0.99     10000\n",
      "   macro avg       0.99      0.99      0.99     10000\n",
      "weighted avg       0.99      0.99      0.99     10000\n",
      "\n"
     ]
    }
   ],
   "source": [
    "# Cell 8: Make Predictions\n",
    "# Predictions\n",
    "train_pred = np.argmax(model.predict(X_train), axis=1) + 1  # Convert back to 1-5\n",
    "test_pred = np.argmax(model.predict(X_test), axis=1) + 1\n",
    "\n",
    "# Calculate accuracies\n",
    "train_accuracy = accuracy_score(y_train, train_pred)\n",
    "test_accuracy = accuracy_score(y_test, test_pred)\n",
    "\n",
    "print(f\"Training Accuracy: {train_accuracy:.4f}\")\n",
    "print(f\"Test Accuracy: {test_accuracy:.4f}\")\n",
    "\n"
   ]
  },
  {
   "cell_type": "code",
   "execution_count": 11,
   "id": "723dd86b-7dd8-4816-adbc-9e003be16f8e",
   "metadata": {},
   "outputs": [
    {
     "name": "stdout",
     "output_type": "stream",
     "text": [
      "Classification Report:\n",
      "              precision    recall  f1-score   support\n",
      "\n",
      " Relevance_1       1.00      1.00      1.00      2000\n",
      " Relevance_2       1.00      1.00      1.00      2000\n",
      " Relevance_3       1.00      1.00      1.00      2000\n",
      " Relevance_4       0.98      0.98      0.98      2000\n",
      " Relevance_5       0.98      0.99      0.99      2000\n",
      "\n",
      "    accuracy                           0.99     10000\n",
      "   macro avg       0.99      0.99      0.99     10000\n",
      "weighted avg       0.99      0.99      0.99     10000\n",
      "\n"
     ]
    }
   ],
   "source": [
    "# Cell 9: Classification Report\n",
    "print(\"Classification Report:\")\n",
    "print(classification_report(y_test, test_pred, \n",
    "                          target_names=[f'Relevance_{i}' for i in range(1, 6)]))"
   ]
  },
  {
   "cell_type": "code",
   "execution_count": 12,
   "id": "3d46a648-59e7-496d-b776-4b5b11bb78d5",
   "metadata": {},
   "outputs": [
    {
     "data": {
      "image/png": "[encoded data removed]",
      "text/plain": [
       "<Figure size 1200x800 with 1 Axes>"
      ]
     },
     "metadata": {},
     "output_type": "display_data"
    }
   ],
   "source": [
    "# Cell 10: Feature Importance Plot\n",
    "# Feature importance\n",
    "importance = model.feature_importance(importance_type='gain')\n",
    "importance_df = pd.DataFrame({\n",
    "    'feature': feature_names,\n",
    "    'importance': importance\n",
    "}).sort_values('importance', ascending=True)\n",
    "\n",
    "plt.figure(figsize=(12, 8))\n",
    "plt.barh(importance_df['feature'], importance_df['importance'])\n",
    "plt.title('Feature Importance (LightGBM)')\n",
    "plt.xlabel('Importance Score')\n",
    "plt.tight_layout()\n",
    "plt.show()"
   ]
  },
  {
   "cell_type": "code",
   "execution_count": 13,
   "id": "26a5e6d3-a51b-4820-907e-50c6995849c2",
   "metadata": {},
   "outputs": [
    {
     "data": {
      "image/png": "[encoded data removed]",
      "text/plain": [
       "<Figure size 800x600 with 2 Axes>"
      ]
     },
     "metadata": {},
     "output_type": "display_data"
    }
   ],
   "source": [
    "# Cell 11: Confusion Matrix\n",
    "# Confusion matrix\n",
    "cm = confusion_matrix(y_test, test_pred)\n",
    "\n",
    "plt.figure(figsize=(8, 6))\n",
    "sns.heatmap(cm, annot=True, fmt='d', cmap='Blues',\n",
    "           xticklabels=[f'Level {i}' for i in range(1, 6)],\n",
    "           yticklabels=[f'Level {i}' for i in range(1, 6)])\n",
    "plt.title('Confusion Matrix - Supplier Relevance Prediction')\n",
    "plt.xlabel('Predicted')\n",
    "plt.ylabel('Actual')\n",
    "plt.tight_layout()\n",
    "plt.show()"
   ]
  },
  {
   "cell_type": "code",
   "execution_count": 14,
   "id": "87076ec7-1ca9-4642-a8a9-2935048fd069",
   "metadata": {},
   "outputs": [],
   "source": [
    "# Cell 12: Supplier Ranking Function\n",
    "def rank_suppliers(model, df, feature_names, top_n=20):\n",
    "    \"\"\"Rank suppliers using the trained model\"\"\"\n",
    "    \n",
    "    # Prepare features\n",
    "    X, _ = prepare_features(df)\n",
    "    \n",
    "    # Get predictions and probabilities\n",
    "    probs = model.predict(X)\n",
    "    predictions = np.argmax(probs, axis=1) + 1  # Convert to 1-5 scale\n",
    "    confidence = np.max(probs, axis=1)\n",
    "    \n",
    "    # Create ranking dataframe\n",
    "    ranking_df = df.copy()\n",
    "    ranking_df['predicted_relevance'] = predictions\n",
    "    ranking_df['confidence'] = confidence\n",
    "    \n",
    "    # Sort by prediction and confidence\n",
    "    ranking_df = ranking_df.sort_values(\n",
    "        ['predicted_relevance', 'confidence'], \n",
    "        ascending=[False, False]\n",
    "    ).reset_index(drop=True)\n",
    "    \n",
    "    # Add rank\n",
    "    ranking_df['rank'] = range(1, len(ranking_df) + 1)\n",
    "    \n",
    "    # Select columns\n",
    "    columns = [\n",
    "        'rank', 'supplier_id', 'predicted_relevance', 'actual_relevance' if 'relevance_score' in df.columns else 'confidence',\n",
    "        'confidence', 'lead_time_days', 'on_time_delivery_rate', 'defect_rate', 'past_performance_score'\n",
    "    ]\n",
    "    \n",
    "    if 'relevance_score' in df.columns:\n",
    "        ranking_df['actual_relevance'] = ranking_df['relevance_score']\n",
    "    \n",
    "    return ranking_df[columns].head(top_n)"
   ]
  },
  {
   "cell_type": "code",
   "execution_count": 15,
   "id": "dac9210b-071b-4db0-be14-01cd40edb3a9",
   "metadata": {},
   "outputs": [
    {
     "name": "stdout",
     "output_type": "stream",
     "text": [
      "=== TOP 20 SUPPLIERS ===\n",
      " rank supplier_id  predicted_relevance  actual_relevance  confidence  lead_time_days  on_time_delivery_rate  defect_rate  past_performance_score\n",
      "    1  SUP_040760                    5                 5    0.999859        9.542398               0.998148     0.000000                4.764999\n",
      "    2  SUP_049720                    5                 5    0.999859        9.942463               1.000000     0.000000                5.000000\n",
      "    3  SUP_044528                    5                 5    0.999859        9.745687               1.000000     0.000000                5.000000\n",
      "    4  SUP_048293                    5                 5    0.999859        8.983924               0.996207     0.000000                4.785577\n",
      "    5  SUP_044388                    5                 5    0.999859        9.423307               1.000000     0.000000                4.969454\n",
      "    6  SUP_049450                    5                 5    0.999859        9.993802               0.998034     0.000000                4.796835\n",
      "    7  SUP_046238                    5                 5    0.999859        9.748752               1.000000     0.000000                4.991631\n",
      "    8  SUP_047640                    5                 5    0.999859        9.219730               0.997746     0.000000                4.782858\n",
      "    9  SUP_044323                    5                 5    0.999859       10.068125               0.997106     0.000872                4.861083\n",
      "   10  SUP_049707                    5                 5    0.999859        9.941821               1.000000     0.000584                4.789361\n",
      "   11  SUP_047810                    5                 5    0.999859        9.666955               1.000000     0.000000                5.000000\n",
      "   12  SUP_043556                    5                 5    0.999859        9.788898               1.000000     0.000000                4.836938\n",
      "   13  SUP_040787                    5                 5    0.999859       10.022376               1.000000     0.000000                5.000000\n",
      "   14  SUP_043023                    5                 5    0.999859        9.313281               0.998076     0.000000                5.000000\n",
      "   15  SUP_049467                    5                 5    0.999859        9.659737               1.000000     0.000000                4.876733\n",
      "   16  SUP_044951                    5                 5    0.999859        8.786463               0.995704     0.001785                4.868058\n",
      "   17  SUP_046207                    5                 5    0.999859       10.047359               0.997246     0.001738                4.948248\n",
      "   18  SUP_041495                    5                 5    0.999859       16.437838               1.000000     0.000000                4.978191\n",
      "   19  SUP_048128                    5                 5    0.999859       16.320715               1.000000     0.001005                4.860245\n",
      "   20  SUP_041356                    5                 5    0.999859       16.039290               0.999189     0.000000                4.761602\n"
     ]
    }
   ],
   "source": [
    "# Cell 13: Generate Rankings\n",
    "# Top 20 suppliers\n",
    "print(\"=== TOP 20 SUPPLIERS ===\")\n",
    "top_suppliers = rank_suppliers(model, df, feature_names, top_n=20)\n",
    "print(top_suppliers.to_string(index=False))"
   ]
  },
  {
   "cell_type": "code",
   "execution_count": 16,
   "id": "93f99dd1-f022-45c9-a961-06172025cedc",
   "metadata": {},
   "outputs": [
    {
     "name": "stdout",
     "output_type": "stream",
     "text": [
      "\n",
      "=== BOTTOM 20 SUPPLIERS ===\n",
      " rank supplier_id  predicted_relevance  actual_relevance  confidence  lead_time_days  on_time_delivery_rate  defect_rate  past_performance_score\n",
      "49981  SUP_002752                    1                 1    0.995039       53.797700               0.535042     0.246146                1.909340\n",
      "49982  SUP_005559                    1                 1    0.995003       55.031726               0.528835     0.174273                1.637417\n",
      "49983  SUP_008218                    1                 1    0.994884       50.466435               0.473106     0.157304                1.958611\n",
      "49984  SUP_004114                    1                 1    0.993771       54.720017               0.450691     0.158452                2.017340\n",
      "49985  SUP_004832                    1                 1    0.992868       57.328327               0.511407     0.139004                1.562657\n",
      "49986  SUP_006814                    1                 1    0.987009       51.230493               0.361829     0.157504                2.207784\n",
      "49987  SUP_002737                    1                 1    0.982912       59.145100               0.506788     0.162988                2.061186\n",
      "49988  SUP_005843                    1                 1    0.982603       53.033107               0.418174     0.148137                2.114429\n",
      "49989  SUP_009969                    1                 1    0.981246       58.269652               0.480920     0.157976                2.041653\n",
      "49990  SUP_006238                    1                 1    0.968075       59.036456               0.520117     0.156520                1.870632\n",
      "49991  SUP_001009                    1                 1    0.961952       54.365576               0.534904     0.183781                1.900146\n",
      "49992  SUP_008143                    1                 1    0.960318       47.680896               0.495486     0.157220                1.958153\n",
      "49993  SUP_006811                    1                 1    0.957687       46.948831               0.512265     0.178638                2.131474\n",
      "49994  SUP_019498                    1                 2    0.922412       49.249399               0.509302     0.156447                1.969006\n",
      "49995  SUP_004415                    1                 1    0.900985       52.587843               0.488388     0.149895                1.874831\n",
      "49996  SUP_001632                    1                 1    0.774495       51.593535               0.526213     0.147955                1.826873\n",
      "49997  SUP_001543                    1                 1    0.730524       52.664691               0.295446     0.132293                1.492694\n",
      "49998  SUP_002622                    1                 1    0.722756       48.656239               0.462390     0.144528                2.137035\n",
      "49999  SUP_000177                    1                 1    0.668114       49.228444               0.533887     0.199060                2.066032\n",
      "50000  SUP_002082                    1                 1    0.521274       48.296183               0.510338     0.158561                2.154434\n"
     ]
    }
   ],
   "source": [
    "# Cell 14: Bottom Suppliers\n",
    "# Bottom 20 suppliers\n",
    "print(\"\\n=== BOTTOM 20 SUPPLIERS ===\")\n",
    "all_rankings = rank_suppliers(model, df, feature_names, top_n=len(df))\n",
    "bottom_suppliers = all_rankings.tail(20)\n",
    "print(bottom_suppliers.to_string(index=False))"
   ]
  },
  {
   "cell_type": "code",
   "execution_count": 17,
   "id": "3ffff048-c043-4717-929a-07bf9bc139a8",
   "metadata": {},
   "outputs": [
    {
     "name": "stdout",
     "output_type": "stream",
     "text": [
      "\n",
      "=== ACCURACY BY RELEVANCE LEVEL ===\n",
      "Level 1: 1.000 accuracy (2000 samples)\n",
      "Level 2: 1.000 accuracy (2000 samples)\n",
      "Level 3: 0.998 accuracy (2000 samples)\n",
      "Level 4: 0.982 accuracy (2000 samples)\n",
      "Level 5: 0.988 accuracy (2000 samples)\n"
     ]
    }
   ],
   "source": [
    "# Cell 15: Model Performance by Relevance Level\n",
    "print(\"\\n=== ACCURACY BY RELEVANCE LEVEL ===\")\n",
    "for level in range(1, 6):\n",
    "    mask = y_test == level\n",
    "    level_accuracy = accuracy_score(y_test[mask], test_pred[mask])\n",
    "    count = mask.sum()\n",
    "    print(f\"Level {level}: {level_accuracy:.3f} accuracy ({count} samples)\")\n"
   ]
  },
  {
   "cell_type": "code",
   "execution_count": 19,
   "id": "3a9791e6-229a-4f00-825e-e6c3b66c6126",
   "metadata": {},
   "outputs": [
    {
     "name": "stdout",
     "output_type": "stream",
     "text": [
      "Model saved as 'supplier_ranking_model.pkl'\n"
     ]
    }
   ],
   "source": [
    "# Cell 16: Save Model\n",
    "# Save the trained model\n",
    "model_data = {\n",
    "    'model': model,\n",
    "    'feature_names': feature_names,\n",
    "    'train_accuracy': train_accuracy,\n",
    "    'test_accuracy': test_accuracy\n",
    "}\n",
    "\n",
    "joblib.dump(model_data, 'supplier_ranking_model.pkl')\n",
    "print(\"Model saved as 'supplier_ranking_model.pkl'\")"
   ]
  },
  {
   "cell_type": "code",
   "execution_count": 22,
   "id": "9bc85a87-51ae-4e16-bff1-22e172b984ef",
   "metadata": {},
   "outputs": [
    {
     "name": "stdout",
     "output_type": "stream",
     "text": [
      "Model loaded successfully!\n",
      "Loaded model train accuracy: 0.9970\n",
      "Loaded model test accuracy: 0.9933\n"
     ]
    }
   ],
   "source": [
    "# Cell 17: Load and Test Saved Model (Optional)\n",
    "# Load model test\n",
    "loaded_model = joblib.load('supplier_ranking_model.pkl')\n",
    "print(\"Model loaded successfully!\")\n",
    "print(f\"Loaded model train accuracy: {loaded_model['train_accuracy']:.4f}\")\n",
    "print(f\"Loaded model test accuracy: {loaded_model['test_accuracy']:.4f}\")\n"
   ]
  },
  {
   "cell_type": "code",
   "execution_count": 24,
   "id": "2a8d8c4a-7c00-4d43-9ee1-c0aa4428c701",
   "metadata": {},
   "outputs": [],
   "source": [
    "# Cell 18: Quick Supplier Evaluation Function\n",
    "def evaluate_new_supplier(lead_time, on_time_rate, defect_rate, past_score, model=model):\n",
    "    \"\"\"Quickly evaluate a single supplier\"\"\"\n",
    "    \n",
    "    # Create single supplier dataframe\n",
    "    supplier_df = pd.DataFrame({\n",
    "        'lead_time_days': [lead_time],\n",
    "        'on_time_delivery_rate': [on_time_rate],\n",
    "        'defect_rate': [defect_rate],\n",
    "        'past_performance_score': [past_score],\n",
    "        'efficiency_score': [(on_time_rate * (1 - defect_rate)) / (lead_time / 30)],\n",
    "        'quality_ratio': [(1 - defect_rate) * past_score / 5],\n",
    "        'delivery_score': [on_time_rate * (60 / lead_time)],\n",
    "        'supplier_id': ['NEW_SUPPLIER']\n",
    "    })\n",
    "    \n",
    "    # Get prediction\n",
    "    X, _ = prepare_features(supplier_df)\n",
    "    probs = model.predict(X)\n",
    "    prediction = np.argmax(probs, axis=1)[0] + 1\n",
    "    confidence = np.max(probs, axis=1)[0]\n",
    "    \n",
    "    print(f\"Supplier Evaluation:\")\n",
    "    print(f\"  Lead Time: {lead_time} days\")\n",
    "    print(f\"  On-Time Rate: {on_time_rate*100:.1f}%\")\n",
    "    print(f\"  Defect Rate: {defect_rate*100:.2f}%\")\n",
    "    print(f\"  Past Score: {past_score}/5\")\n",
    "    print(f\"  → Predicted Relevance: {prediction}/5\")\n",
    "    print(f\"  → Confidence: {confidence:.3f}\")\n",
    "    \n",
    "    return prediction, confidence"
   ]
  },
  {
   "cell_type": "code",
   "execution_count": 25,
   "id": "24cc3b11-b57f-46e7-9897-083a57c9c237",
   "metadata": {},
   "outputs": [
    {
     "name": "stdout",
     "output_type": "stream",
     "text": [
      "=== TESTING NEW SUPPLIER EVALUATION ===\n",
      "\n",
      "1. Excellent Supplier Test:\n",
      "Supplier Evaluation:\n",
      "  Lead Time: 12 days\n",
      "  On-Time Rate: 96.0%\n",
      "  Defect Rate: 0.50%\n",
      "  Past Score: 4.8/5\n",
      "  → Predicted Relevance: 5/5\n",
      "  → Confidence: 1.000\n",
      "\n",
      "2. Poor Supplier Test:\n",
      "Supplier Evaluation:\n",
      "  Lead Time: 65 days\n",
      "  On-Time Rate: 45.0%\n",
      "  Defect Rate: 18.00%\n",
      "  Past Score: 1.8/5\n",
      "  → Predicted Relevance: 1/5\n",
      "  → Confidence: 1.000\n",
      "\n",
      "3. Average Supplier Test:\n",
      "Supplier Evaluation:\n",
      "  Lead Time: 32 days\n",
      "  On-Time Rate: 78.0%\n",
      "  Defect Rate: 6.00%\n",
      "  Past Score: 3.2/5\n",
      "  → Predicted Relevance: 3/5\n",
      "  → Confidence: 1.000\n",
      "\n",
      "🎯 Model training completed successfully!\n",
      "📊 Use the ranking functions to evaluate suppliers\n",
      "💾 Model saved and ready for production use\n"
     ]
    }
   ],
   "source": [
    "# Cell 19: Test New Supplier Evaluation\n",
    "print(\"=== TESTING NEW SUPPLIER EVALUATION ===\")\n",
    "\n",
    "# Test excellent supplier\n",
    "print(\"\\n1. Excellent Supplier Test:\")\n",
    "evaluate_new_supplier(12, 0.96, 0.005, 4.8)\n",
    "\n",
    "# Test poor supplier\n",
    "print(\"\\n2. Poor Supplier Test:\")\n",
    "evaluate_new_supplier(65, 0.45, 0.18, 1.8)\n",
    "\n",
    "# Test average supplier\n",
    "print(\"\\n3. Average Supplier Test:\")\n",
    "evaluate_new_supplier(32, 0.78, 0.06, 3.2)\n",
    "\n",
    "print(\"\\n🎯 Model training completed successfully!\")\n",
    "print(\"📊 Use the ranking functions to evaluate suppliers\")\n",
    "print(\"💾 Model saved and ready for production use\")"
   ]
  },
  {
   "cell_type": "code",
   "execution_count": null,
   "id": "abf3e4ec-3948-4aed-b745-f577792ee84d",
   "metadata": {},
   "outputs": [],
   "source": []
  }
 ],
 "metadata": {
  "kernelspec": {
   "display_name": "Python 3 (ipykernel)",
   "language": "python",
   "name": "python3"
  },
  "language_info": {
   "codemirror_mode": {
    "name": "ipython",
    "version": 3
   },
   "file_extension": ".py",
   "mimetype": "text/x-python",
   "name": "python",
   "nbconvert_exporter": "python",
   "pygments_lexer": "ipython3",
   "version": "3.13.5"
  }
 },
 "nbformat": 4,
 "nbformat_minor": 5
}
